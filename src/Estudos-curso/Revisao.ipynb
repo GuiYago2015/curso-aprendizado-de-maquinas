{
 "metadata": {
  "language_info": {
   "codemirror_mode": {
    "name": "ipython",
    "version": 3
   },
   "file_extension": ".py",
   "mimetype": "text/x-python",
   "name": "python",
   "nbconvert_exporter": "python",
   "pygments_lexer": "ipython3",
   "version": 3
  },
  "orig_nbformat": 2,
  "kernelspec": {
   "name": "python_defaultSpec_1596658742368",
   "display_name": "Python 3.8.3 64-bit"
  }
 },
 "nbformat": 4,
 "nbformat_minor": 2,
 "cells": [
  {
   "cell_type": "code",
   "execution_count": 11,
   "metadata": {},
   "outputs": [],
   "source": [
    "import pandas as pd\n",
    "\n",
    "alunosDIC = {'Nome': ['Joao', 'Maria', 'Eduardo', 'Felipe'],\n",
    "          'Nota': [7, 5.5, 4, 9],\n",
    "          'Aprovado': ['sim', 'nao', 'nao', 'sim']}"
   ]
  },
  {
   "cell_type": "code",
   "execution_count": 12,
   "metadata": {},
   "outputs": [
    {
     "output_type": "execute_result",
     "data": {
      "text/plain": "      Nome  Nota Aprovado\n0     Joao   7.0      sim\n1    Maria   5.5      nao\n2  Eduardo   4.0      nao\n3   Felipe   9.0      sim",
      "text/html": "<div>\n<style scoped>\n    .dataframe tbody tr th:only-of-type {\n        vertical-align: middle;\n    }\n\n    .dataframe tbody tr th {\n        vertical-align: top;\n    }\n\n    .dataframe thead th {\n        text-align: right;\n    }\n</style>\n<table border=\"1\" class=\"dataframe\">\n  <thead>\n    <tr style=\"text-align: right;\">\n      <th></th>\n      <th>Nome</th>\n      <th>Nota</th>\n      <th>Aprovado</th>\n    </tr>\n  </thead>\n  <tbody>\n    <tr>\n      <th>0</th>\n      <td>Joao</td>\n      <td>7.0</td>\n      <td>sim</td>\n    </tr>\n    <tr>\n      <th>1</th>\n      <td>Maria</td>\n      <td>5.5</td>\n      <td>nao</td>\n    </tr>\n    <tr>\n      <th>2</th>\n      <td>Eduardo</td>\n      <td>4.0</td>\n      <td>nao</td>\n    </tr>\n    <tr>\n      <th>3</th>\n      <td>Felipe</td>\n      <td>9.0</td>\n      <td>sim</td>\n    </tr>\n  </tbody>\n</table>\n</div>"
     },
     "metadata": {},
     "execution_count": 12
    }
   ],
   "source": [
    "alunosDF = pd.DataFrame(alunosDIC)\n",
    "alunosDF"
   ]
  },
  {
   "cell_type": "code",
   "execution_count": 13,
   "metadata": {},
   "outputs": [
    {
     "output_type": "execute_result",
     "data": {
      "text/plain": "0     9\n1    10\n2     7\n3    15\n4    17\ndtype: int64"
     },
     "metadata": {},
     "execution_count": 13
    }
   ],
   "source": [
    "serie1 = pd.Series([9, 10, 7, 15, 17])\n",
    "serie1"
   ]
  },
  {
   "cell_type": "code",
   "execution_count": 14,
   "metadata": {
    "tags": []
   },
   "outputs": [
    {
     "output_type": "stream",
     "name": "stdout",
     "text": "[ 6  5  2 32 78]\n[[ 44  56   3   7   8]\n [ 34 786  67  45  67]]\n"
    }
   ],
   "source": [
    "import numpy as np \n",
    "\n",
    "array1 = np.array([6, 5, 2, 32, 78])\n",
    "array2 = np.array([(44, 56, 3, 7, 8), (34, 786, 67, 45, 67)])\n",
    "\n",
    "print(array1)\n",
    "print(array2)"
   ]
  },
  {
   "cell_type": "code",
   "execution_count": 15,
   "metadata": {},
   "outputs": [
    {
     "output_type": "execute_result",
     "data": {
      "text/plain": "0     6\n1     5\n2     2\n3    32\n4    78\ndtype: int32"
     },
     "metadata": {},
     "execution_count": 15
    }
   ],
   "source": [
    "serie2 = pd.Series(array1)\n",
    "serie2"
   ]
  },
  {
   "cell_type": "code",
   "execution_count": 14,
   "metadata": {},
   "outputs": [],
   "source": [
    "## POO "
   ]
  },
  {
   "cell_type": "code",
   "execution_count": 3,
   "metadata": {},
   "outputs": [],
   "source": [
    "class Jogador:\n",
    "    def __init__(self, nome, fichas):\n",
    "        self.nome = nome\n",
    "        self.fichas = fichas\n",
    "    def passou_fase(self):\n",
    "        self.fichas = self.fichas + 10\n",
    "    \n",
    "    def __str__(self):\n",
    "        return f\"{self.nome}: {self.fichas}\"\n",
    "    \n",
    "    def __repr__(self):\n",
    "        return str(self)\n"
   ]
  },
  {
   "cell_type": "code",
   "execution_count": 7,
   "metadata": {
    "tags": []
   },
   "outputs": [
    {
     "output_type": "stream",
     "name": "stdout",
     "text": "Guilherme: 100\nGuilherme: 110\nDaniel: 200\nDaniel: 210\nDaniel: 225\n"
    }
   ],
   "source": [
    "guilherme = Jogador(\"Guilherme\", 100)\n",
    "print(guilherme)\n",
    "guilherme.passou_fase()\n",
    "print(guilherme)\n",
    "\n",
    "daniel = Jogador(\"Daniel\", 200)\n",
    "print(daniel)\n",
    "daniel.passou_fase()\n",
    "print(daniel)\n",
    "\n",
    "daniel.fichas = 225\n",
    "print(daniel)\n",
    "\n"
   ]
  },
  {
   "cell_type": "code",
   "execution_count": null,
   "metadata": {},
   "outputs": [],
   "source": [
    "## ATRIBUTOS E METODOS ESTATICOS"
   ]
  },
  {
   "cell_type": "code",
   "execution_count": 11,
   "metadata": {},
   "outputs": [],
   "source": [
    "class Jogador:\n",
    "    NUMERO_DE_JOGADORES = 0\n",
    "    def __init__(self, nome, fichas):\n",
    "        self.nome = nome\n",
    "        self.fichas = fichas\n",
    "        Jogador.NUMERO_DE_JOGADORES += 1\n",
    "    def passou_fase(self):\n",
    "        self.fichas = self.fichas + 10\n",
    "    \n",
    "    def __str__(self):\n",
    "        return f\"{self.nome}: {self.fichas}\"\n",
    "    \n",
    "    def __repr__(self):\n",
    "        return str(self)"
   ]
  },
  {
   "cell_type": "code",
   "execution_count": 12,
   "metadata": {
    "tags": []
   },
   "outputs": [
    {
     "output_type": "stream",
     "name": "stdout",
     "text": "Guilherme: 100\nGuilherme: 110\nDaniel: 200\nDaniel: 210\nDaniel: 225\n"
    }
   ],
   "source": [
    "guilherme = Jogador(\"Guilherme\", 100)\n",
    "print(guilherme)\n",
    "guilherme.passou_fase()\n",
    "print(guilherme)\n",
    "\n",
    "daniel = Jogador(\"Daniel\", 200)\n",
    "print(daniel)\n",
    "daniel.passou_fase()\n",
    "print(daniel)\n",
    "\n",
    "daniel.fichas = 225\n",
    "print(daniel)\n",
    "\n"
   ]
  },
  {
   "cell_type": "code",
   "execution_count": 13,
   "metadata": {
    "tags": []
   },
   "outputs": [
    {
     "output_type": "stream",
     "name": "stdout",
     "text": "2\n"
    }
   ],
   "source": [
    "print(Jogador.NUMERO_DE_JOGADORES)"
   ]
  },
  {
   "cell_type": "code",
   "execution_count": 21,
   "metadata": {},
   "outputs": [],
   "source": [
    "from typing import List\n",
    "class Jogador:\n",
    "    NUMERO_DE_JOGADORES = 0\n",
    "    def __init__(self, nome, fichas):\n",
    "        self.nome = nome\n",
    "        self.fichas = fichas\n",
    "        Jogador.NUMERO_DE_JOGADORES += 1\n",
    "   \n",
    "    def passou_fase(self):\n",
    "        self.fichas = self.fichas + 10\n",
    "    \n",
    "    @staticmethod\n",
    "    def ganhador(arr_jogadores: List[\"Jogador\"]):\n",
    "        jogador_aux = arr_jogadores[0]\n",
    "        for jogador in arr_jogadores:\n",
    "            if jogador.fichas > jogador_aux.fichas:\n",
    "                jogador_aux = jogador\n",
    "        return jogador_aux\n",
    "    \n",
    "    def __str__(self):\n",
    "        return f\"{self.nome}: {self.fichas}\"\n",
    "    \n",
    "    def __repr__(self):\n",
    "        return str(self)"
   ]
  },
  {
   "cell_type": "code",
   "execution_count": 23,
   "metadata": {
    "tags": []
   },
   "outputs": [
    {
     "output_type": "stream",
     "name": "stdout",
     "text": "Vencedor: Guilherme: 335\n"
    }
   ],
   "source": [
    "guilherme = Jogador(\"Guilherme\", 100)\n",
    "guilherme.passou_fase()\n",
    "\n",
    "daniel = Jogador(\"Daniel\", 200)\n",
    "daniel.passou_fase()\n",
    "daniel.fichas = 225\n",
    "guilherme.fichas = 335\n",
    "\n",
    "jogadores = [guilherme, daniel]\n",
    "jogador_vencedor = Jogador.ganhador(jogadores)\n",
    "\n",
    "print(f\"Vencedor: {jogador_vencedor}\")\n",
    "\n"
   ]
  },
  {
   "cell_type": "code",
   "execution_count": 27,
   "metadata": {},
   "outputs": [],
   "source": [
    "class Pessoa:\n",
    "    def __init__(self, nome):\n",
    "        self.nome = nome\n",
    "    \n",
    "    def diz_oi(self, pessoa: \"Pessoa\"):\n",
    "        print(f\"{self.nome} diz oi para {pessoa.nome}!\")\n"
   ]
  },
  {
   "cell_type": "code",
   "execution_count": 28,
   "metadata": {
    "tags": []
   },
   "outputs": [
    {
     "output_type": "stream",
     "name": "stdout",
     "text": "Maria diz oi para João!\n"
    }
   ],
   "source": [
    "joao = Pessoa(\"João\")\n",
    "maria = Pessoa(\"Maria\")\n",
    "\n",
    "maria.diz_oi(joao)"
   ]
  },
  {
   "cell_type": "code",
   "execution_count": 31,
   "metadata": {},
   "outputs": [],
   "source": [
    "class Funcionario(Pessoa):\n",
    "    def __init__(self, nome, salario):\n",
    "        super().__init__(nome)\n",
    "        self.salario = salario\n",
    "    def aumento_salario(self, aumento):\n",
    "        self.salario += aumento"
   ]
  },
  {
   "cell_type": "code",
   "execution_count": 33,
   "metadata": {
    "tags": []
   },
   "outputs": [
    {
     "output_type": "stream",
     "name": "stdout",
     "text": "1000\n1100\nmatias diz oi para Maria!\n"
    }
   ],
   "source": [
    "matias = Funcionario(\"matias\", 1000)\n",
    "print(matias.salario)\n",
    "matias.aumento_salario(100)\n",
    "print(matias.salario)\n",
    "\n",
    "matias.diz_oi(maria)"
   ]
  },
  {
   "cell_type": "code",
   "execution_count": 35,
   "metadata": {},
   "outputs": [],
   "source": [
    "class Funcionario(Pessoa):\n",
    "    def __init__(self, nome, salario):\n",
    "        super().__init__(nome)\n",
    "        self.salario = salario\n",
    "    def aumento_salario(self, aumento):\n",
    "        self.salario += aumento\n",
    "    def diz_oi(self, pessoa: \"Pessoa\"):\n",
    "        print(f\"{self.nome} diz: Bom dia {pessoa.nome}, como vai?\")\n"
   ]
  },
  {
   "cell_type": "code",
   "execution_count": 36,
   "metadata": {
    "tags": []
   },
   "outputs": [
    {
     "output_type": "stream",
     "name": "stdout",
     "text": "1000\n1100\nmatias diz: Bom dia Maria, como vai?\n"
    }
   ],
   "source": [
    "matias = Funcionario(\"matias\", 1000)\n",
    "print(matias.salario)\n",
    "matias.aumento_salario(100)\n",
    "print(matias.salario)\n",
    "\n",
    "matias.diz_oi(maria)"
   ]
  },
  {
   "cell_type": "code",
   "execution_count": null,
   "metadata": {},
   "outputs": [],
   "source": [
    "METODOS ABSTRATOS"
   ]
  },
  {
   "cell_type": "code",
   "execution_count": 50,
   "metadata": {},
   "outputs": [],
   "source": [
    "from datetime import datetime\n",
    "from abc import abstractmethod\n",
    "\n",
    "class Conta:\n",
    "    def __init__(self, numero, saldo):\n",
    "        self.numero = numero \n",
    "        self.saldo = saldo\n",
    "\n",
    "class TransacaoBancaria:\n",
    "    def __init__(self, conta: Conta, data: datetime, valor: float):\n",
    "        self.conta = conta\n",
    "        self.data = data\n",
    "        self.valor = valor\n",
    "   \n",
    "    @abstractmethod\n",
    "    def efetua_transacao(self):\n",
    "        raise NotImplementedError"
   ]
  },
  {
   "cell_type": "code",
   "execution_count": 54,
   "metadata": {},
   "outputs": [],
   "source": [
    "class TransacaoCredito(TransacaoBancaria):\n",
    "    def efetua_transacao(self):\n",
    "        self.conta.saldo += self.valor\n",
    "\n",
    "class TransacaoDebito(TransacaoBancaria):\n",
    "    def efetua_transacao(self):\n",
    "        self.conta.saldo -= self.valor"
   ]
  },
  {
   "cell_type": "code",
   "execution_count": 56,
   "metadata": {
    "tags": []
   },
   "outputs": [
    {
     "output_type": "stream",
     "name": "stdout",
     "text": "Saldo Inicial: 2000\nSaldo Final: 1770\n"
    }
   ],
   "source": [
    "conta = Conta(111, 2000)\n",
    "print(f\"Saldo Inicial: {conta.saldo}\")\n",
    "\n",
    "cred_30 = TransacaoCredito(conta, datetime.now(), 30)\n",
    "cred_40 = TransacaoCredito(conta, datetime.now(), 40)\n",
    "deb_300 = TransacaoDebito(conta, datetime.now(), 300)\n",
    "\n",
    "arr_transacoes = [cred_30, cred_40, deb_300]\n",
    "\n",
    "for transacao in arr_transacoes:\n",
    "    transacao.efetua_transacao()\n",
    "\n",
    "print(f\"Saldo Final: {conta.saldo}\")"
   ]
  }
 ]
}