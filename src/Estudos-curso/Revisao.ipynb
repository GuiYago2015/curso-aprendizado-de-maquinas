{
 "metadata": {
  "language_info": {
   "codemirror_mode": {
    "name": "ipython",
    "version": 3
   },
   "file_extension": ".py",
   "mimetype": "text/x-python",
   "name": "python",
   "nbconvert_exporter": "python",
   "pygments_lexer": "ipython3",
   "version": 3
  },
  "orig_nbformat": 2,
  "kernelspec": {
   "name": "python_defaultSpec_1596585771577",
   "display_name": "Python 3.8.3 64-bit"
  }
 },
 "nbformat": 4,
 "nbformat_minor": 2,
 "cells": [
  {
   "cell_type": "code",
   "execution_count": 11,
   "metadata": {},
   "outputs": [],
   "source": [
    "import pandas as pd\n",
    "\n",
    "alunosDIC = {'Nome': ['Joao', 'Maria', 'Eduardo', 'Felipe'],\n",
    "          'Nota': [7, 5.5, 4, 9],\n",
    "          'Aprovado': ['sim', 'nao', 'nao', 'sim']}"
   ]
  },
  {
   "cell_type": "code",
   "execution_count": 12,
   "metadata": {},
   "outputs": [
    {
     "output_type": "execute_result",
     "data": {
      "text/plain": "      Nome  Nota Aprovado\n0     Joao   7.0      sim\n1    Maria   5.5      nao\n2  Eduardo   4.0      nao\n3   Felipe   9.0      sim",
      "text/html": "<div>\n<style scoped>\n    .dataframe tbody tr th:only-of-type {\n        vertical-align: middle;\n    }\n\n    .dataframe tbody tr th {\n        vertical-align: top;\n    }\n\n    .dataframe thead th {\n        text-align: right;\n    }\n</style>\n<table border=\"1\" class=\"dataframe\">\n  <thead>\n    <tr style=\"text-align: right;\">\n      <th></th>\n      <th>Nome</th>\n      <th>Nota</th>\n      <th>Aprovado</th>\n    </tr>\n  </thead>\n  <tbody>\n    <tr>\n      <th>0</th>\n      <td>Joao</td>\n      <td>7.0</td>\n      <td>sim</td>\n    </tr>\n    <tr>\n      <th>1</th>\n      <td>Maria</td>\n      <td>5.5</td>\n      <td>nao</td>\n    </tr>\n    <tr>\n      <th>2</th>\n      <td>Eduardo</td>\n      <td>4.0</td>\n      <td>nao</td>\n    </tr>\n    <tr>\n      <th>3</th>\n      <td>Felipe</td>\n      <td>9.0</td>\n      <td>sim</td>\n    </tr>\n  </tbody>\n</table>\n</div>"
     },
     "metadata": {},
     "execution_count": 12
    }
   ],
   "source": [
    "alunosDF = pd.DataFrame(alunosDIC)\n",
    "alunosDF"
   ]
  },
  {
   "cell_type": "code",
   "execution_count": 13,
   "metadata": {},
   "outputs": [
    {
     "output_type": "execute_result",
     "data": {
      "text/plain": "0     9\n1    10\n2     7\n3    15\n4    17\ndtype: int64"
     },
     "metadata": {},
     "execution_count": 13
    }
   ],
   "source": [
    "serie1 = pd.Series([9, 10, 7, 15, 17])\n",
    "serie1"
   ]
  },
  {
   "cell_type": "code",
   "execution_count": 14,
   "metadata": {
    "tags": []
   },
   "outputs": [
    {
     "output_type": "stream",
     "name": "stdout",
     "text": "[ 6  5  2 32 78]\n[[ 44  56   3   7   8]\n [ 34 786  67  45  67]]\n"
    }
   ],
   "source": [
    "import numpy as np \n",
    "\n",
    "array1 = np.array([6, 5, 2, 32, 78])\n",
    "array2 = np.array([(44, 56, 3, 7, 8), (34, 786, 67, 45, 67)])\n",
    "\n",
    "print(array1)\n",
    "print(array2)"
   ]
  },
  {
   "cell_type": "code",
   "execution_count": 15,
   "metadata": {},
   "outputs": [
    {
     "output_type": "execute_result",
     "data": {
      "text/plain": "0     6\n1     5\n2     2\n3    32\n4    78\ndtype: int32"
     },
     "metadata": {},
     "execution_count": 15
    }
   ],
   "source": [
    "serie2 = pd.Series(array1)\n",
    "serie2"
   ]
  },
  {
   "cell_type": "code",
   "execution_count": null,
   "metadata": {},
   "outputs": [],
   "source": []
  }
 ]
}