{
 "cells": [
  {
   "cell_type": "code",
   "execution_count": null,
   "metadata": {},
   "outputs": [],
   "source": [
    "* Encontrar a quantidade minima e horarios que todos conseguem se encontrar\n",
    "* Opcional: Quando encontrou-se a quantidade minima, por ex, 3, procurar os três horarios em que conseguimos encontro com a quantidade mais balanceada possivel (ou seja, mais proxima de 33%)"
   ]
  },
  {
   "cell_type": "code",
   "execution_count": 9,
   "metadata": {
    "tags": []
   },
   "outputs": [],
   "source": [
    "import pandas as pd\n",
    "quadro_horarios = pandas.read_csv(\"doodle.csv\")\n",
    "\n",
    "horarios_possiveis = []"
   ]
  },
  {
   "cell_type": "code",
   "execution_count": null,
   "metadata": {},
   "outputs": [],
   "source": [
    "for colunas_analisadas in range(len(quadro_horarios.colunms)[1:]):\n",
    "    coluns_inicial = quadro_horarios.colunms[1]\n",
    "    for i in range(colunas_analisadas):\n",
    "        num_alunos_disponiveis = 0\n",
    "        for"
   ]
  }
 ],
 "metadata": {
  "language_info": {
   "codemirror_mode": {
    "name": "ipython",
    "version": 3
   },
   "file_extension": ".py",
   "mimetype": "text/x-python",
   "name": "python",
   "nbconvert_exporter": "python",
   "pygments_lexer": "ipython3",
   "version": "3.8.3-final"
  },
  "orig_nbformat": 2,
  "kernelspec": {
   "name": "python38364bit5776fe6a75d3492abc253932536e55a2",
   "display_name": "Python 3.8.3 64-bit"
  }
 },
 "nbformat": 4,
 "nbformat_minor": 2
}