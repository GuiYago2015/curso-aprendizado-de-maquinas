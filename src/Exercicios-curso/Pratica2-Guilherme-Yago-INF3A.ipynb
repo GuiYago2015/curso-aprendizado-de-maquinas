{
 "cells": [
  {
   "cell_type": "code",
   "execution_count": 6,
   "metadata": {},
   "outputs": [],
   "source": [
    "from typing import List, Set, Dict, Tuple, Optional\n",
    "\n",
    "\n",
    "class Autor():\n",
    "\n",
    "    def __init__(self, primeiro_nome, ultimo_nome, m_nome = \"\"):\n",
    "        self.primeiro_nome = primeiro_nome\n",
    "        self.m_nome = m_nome \n",
    "        self.ultimo_nome = ultimo_nome\n",
    "    \n",
    "    @property\n",
    "    def nome_como_citado(self):\n",
    "        return f\"{self.ultimo_nome.upper()} {self.nome[0]}\"\n",
    "\n",
    "    def __str__(self):\n",
    "        return \"Nome: \"+self.primeiro_nome+\" Nome do meio: \"+self.m_nome+\" Último nome: \"+ self.ultimo_nome\n",
    "\n",
    "    def __repr__(self):\n",
    "        return str(self)"
   ]
  },
  {
   "cell_type": "code",
   "execution_count": 9,
   "metadata": {},
   "outputs": [],
   "source": [
    "from typing import List, Set, Dict, Tuple, Optional\n",
    "\n",
    "class Livro():\n",
    "    def __init__(self, titulo, ano, Lista_autores = []):\n",
    "        self._titulo = titulo\n",
    "        self.ano = ano\n",
    "        self.autores = Lista_autores\n",
    "\n",
    "    @property\n",
    "    def titulo(self):\n",
    "        return self._titulo\n",
    "    \n",
    "    @titulo.setter\n",
    "    def titulo(self, val):\n",
    "        if len(val) == 0:\n",
    "            raise ValueError(\"Erro: 'título' não pode ser vazio\")\n",
    "        self._titulo = val\n",
    "    \n",
    "    def __str__(self):\n",
    "        return \"Título: \"+self._titulo+\" Ano: \"+str(self.ano)+\" Lista de Autores: \"+ str(self.autores)\n",
    "\n",
    "    def __repr__(self):\n",
    "        return str(self)\n"
   ]
  },
  {
   "cell_type": "code",
   "execution_count": 5,
   "metadata": {},
   "outputs": [],
   "source": [
    "from typing import List, Set, Dict, Tuple, Optional\n",
    "\n",
    "class Biblioteca():\n",
    "    def __init__(self, Lista_livros = []):\n",
    "        self.livros = Lista_livros\n",
    "    \n",
    "    def __str__(self):\n",
    "        return \"Lista de livros: \"+str(self.livros)\n",
    "\n",
    "    def __repr__(self):\n",
    "        return str(self)\n",
    "    "
   ]
  },
  {
   "cell_type": "code",
   "execution_count": 10,
   "metadata": {
    "tags": []
   },
   "outputs": [
    {
     "output_type": "stream",
     "name": "stdout",
     "text": "Título: titulo Ano: 2020 Lista de Autores: ['autor1', 'autor2']\n"
    }
   ],
   "source": [
    "livro = Livro(\"titulo\", 2020, [\"autor1\", \"autor2\"])\n",
    "print(livro)"
   ]
  }
 ],
 "metadata": {
  "language_info": {
   "codemirror_mode": {
    "name": "ipython",
    "version": 3
   },
   "file_extension": ".py",
   "mimetype": "text/x-python",
   "name": "python",
   "nbconvert_exporter": "python",
   "pygments_lexer": "ipython3",
   "version": "3.8.3-final"
  },
  "orig_nbformat": 2,
  "kernelspec": {
   "name": "python38364bit5776fe6a75d3492abc253932536e55a2",
   "display_name": "Python 3.8.3 64-bit"
  }
 },
 "nbformat": 4,
 "nbformat_minor": 2
}