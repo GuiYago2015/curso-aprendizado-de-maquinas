{
 "cells": [
  {
   "cell_type": "code",
   "execution_count": 35,
   "metadata": {},
   "outputs": [],
   "source": [
    "from typing import List, Set, Dict, Tuple, Optional\n",
    "\n",
    "\n",
    "class Autor():\n",
    "\n",
    "    def __init__(self, data_de_nascimento, primeiro_nome, ultimo_nome, m_nome = \"\"):\n",
    "        self.data_de_nascimento = data_de_nascimento\n",
    "        self.primeiro_nome = primeiro_nome\n",
    "        self.m_nome = m_nome \n",
    "        self.ultimo_nome = ultimo_nome\n",
    "    \n",
    "    @property\n",
    "    def nome_como_citado(self):\n",
    "        return f\"{self.ultimo_nome.upper()} {self.primeiro_nome[0]}\"\n",
    "\n",
    "    def __str__(self):\n",
    "        return \"Nome: \"+self.primeiro_nome+\" Nome do meio: \"+self.m_nome+\" Último nome: \"+ self.ultimo_nome+\" Data de nascimento: \"+str(self.data_de_nascimento)\n",
    "\n",
    "    def __repr__(self):\n",
    "        return str(self)"
   ]
  },
  {
   "cell_type": "code",
   "execution_count": 36,
   "metadata": {},
   "outputs": [],
   "source": [
    "from typing import List, Set, Dict, Tuple, Optional\n",
    "\n",
    "class Livro():\n",
    "    def __init__(self, titulo, ano, Lista_autores = []):\n",
    "        self._titulo = titulo\n",
    "        self.ano = ano\n",
    "        self.autores = Lista_autores\n",
    "\n",
    "    @property\n",
    "    def titulo(self):\n",
    "        return self._titulo\n",
    "    \n",
    "    @titulo.setter\n",
    "    def titulo(self, val):\n",
    "        if len(val) == 0:\n",
    "            raise ValueError(\"Erro: 'título' não pode ser vazio\")\n",
    "        self._titulo = val\n",
    "    \n",
    "    def __str__(self):\n",
    "        return \"Título: \"+self._titulo+\" Ano: \"+str(self.ano)+\" Lista de Autores: \"+ str(self.autores)\n",
    "\n",
    "    def __repr__(self):\n",
    "        return str(self)\n"
   ]
  },
  {
   "cell_type": "code",
   "execution_count": 37,
   "metadata": {},
   "outputs": [],
   "source": [
    "from typing import List, Set, Dict, Tuple, Optional\n",
    "\n",
    "class Biblioteca():\n",
    "    def __init__(self, Lista_livros = []):\n",
    "        self._livros = Lista_livros\n",
    "    \n",
    "    @property\n",
    "    def livros_por_autor(self):\n",
    "        dicionario = {}\n",
    "        for livro in self._livros:\n",
    "            for autor in livro.autores:\n",
    "                if autor in dicionario:\n",
    "                    dicionario[autor].append(livro)\n",
    "                else:\n",
    "                    dicionario[autor] = [livro]\n",
    "        return dicionario\n",
    "       \n",
    "    def __str__(self):\n",
    "        return \"Lista de livros: \"+str(self._livros)\n",
    "\n",
    "    def __repr__(self):\n",
    "        return str(self)\n",
    "    "
   ]
  },
  {
   "cell_type": "code",
   "execution_count": 40,
   "metadata": {
    "tags": []
   },
   "outputs": [
    {
     "output_type": "stream",
     "name": "stdout",
     "text": "MEKTARIAN K: [Título: livro 1 Ano: 2020 Lista de Autores: ['MEKTARIAN K', 'BARBOSA E'], Título: livro 2 Ano: 2020 Lista de Autores: ['MEKTARIAN K', 'CALSEN M'], Título: livro 3 Ano: 2020 Lista de Autores: ['CALSEN M', 'BARBOSA E', 'MEKTARIAN K']]\nBARBOSA E: [Título: livro 1 Ano: 2020 Lista de Autores: ['MEKTARIAN K', 'BARBOSA E'], Título: livro 3 Ano: 2020 Lista de Autores: ['CALSEN M', 'BARBOSA E', 'MEKTARIAN K']]\nCALSEN M: [Título: livro 2 Ano: 2020 Lista de Autores: ['MEKTARIAN K', 'CALSEN M'], Título: livro 3 Ano: 2020 Lista de Autores: ['CALSEN M', 'BARBOSA E', 'MEKTARIAN K']]\nVACHIER M: [Título: livro 4 Ano: 2020 Lista de Autores: ['VACHIER M']]\n"
    }
   ],
   "source": [
    "autor1 = Autor(1998, \"Krikor\", \"Mektarian\", \"Sevag\")\n",
    "autor2 = Autor(1976, \"Evandro\", \"Barbosa\")\n",
    "autor3 = Autor(1955, \"Magnus\", \"Calsen\")\n",
    "autor4 = Autor(1969, \"Maxim\", \"Vachier\", \"Lagrave\")\n",
    "\n",
    "livro1 = Livro(\"livro 1\", 2020, [autor1.nome_como_citado, autor2.nome_como_citado])\n",
    "livro2 = Livro(\"livro 2\", 2020, [autor1.nome_como_citado, autor3.nome_como_citado])\n",
    "livro3 = Livro(\"livro 3\", 2020, [autor3.nome_como_citado, autor2.nome_como_citado, autor1.nome_como_citado])\n",
    "livro4 = Livro(\"livro 4\", 2020, [autor4.nome_como_citado])\n",
    "\n",
    "biblioteca = Biblioteca([livro1, livro2, livro3, livro4])\n",
    "for ch,val in biblioteca.livros_por_autor.items():\n",
    "    print(ch+\": \"+str(val))"
   ]
  }
 ],
 "metadata": {
  "language_info": {
   "codemirror_mode": {
    "name": "ipython",
    "version": 3
   },
   "file_extension": ".py",
   "mimetype": "text/x-python",
   "name": "python",
   "nbconvert_exporter": "python",
   "pygments_lexer": "ipython3",
   "version": "3.8.3-final"
  },
  "orig_nbformat": 2,
  "kernelspec": {
   "name": "python38364bit5776fe6a75d3492abc253932536e55a2",
   "display_name": "Python 3.8.3 64-bit"
  }
 },
 "nbformat": 4,
 "nbformat_minor": 2
}