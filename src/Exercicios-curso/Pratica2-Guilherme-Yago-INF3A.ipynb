{
 "cells": [
  {
   "cell_type": "code",
   "execution_count": 35,
   "metadata": {},
   "outputs": [],
   "source": [
    "from typing import List, Set, Dict, Tuple, Optional\n",
    "\n",
    "\n",
    "class Autor():\n",
    "\n",
    "    def __init__(self, data_de_nascimento, primeiro_nome, ultimo_nome, m_nome = \"\"):\n",
    "        self.data_de_nascimento = data_de_nascimento\n",
    "        self.primeiro_nome = primeiro_nome\n",
    "        self.m_nome = m_nome \n",
    "        self.ultimo_nome = ultimo_nome\n",
    "    \n",
    "    @property\n",
    "    def nome_como_citado(self):\n",
    "        return f\"{self.ultimo_nome.upper()} {self.primeiro_nome[0]}\"\n",
    "\n",
    "    def __str__(self):\n",
    "        return \"Nome: \"+self.primeiro_nome+\" Nome do meio: \"+self.m_nome+\" Último nome: \"+ self.ultimo_nome+\" Data de nascimento: \"+str(self.data_de_nascimento)\n",
    "\n",
    "    def __repr__(self):\n",
    "        return str(self)"
   ]
  },
  {
   "cell_type": "code",
   "execution_count": 36,
   "metadata": {},
   "outputs": [],
   "source": [
    "from typing import List, Set, Dict, Tuple, Optional\n",
    "\n",
    "class Livro():\n",
    "    def __init__(self, titulo, ano, Lista_autores = []):\n",
    "        self._titulo = titulo\n",
    "        self.ano = ano\n",
    "        self.autores = Lista_autores\n",
    "\n",
    "    @property\n",
    "    def titulo(self):\n",
    "        return self._titulo\n",
    "    \n",
    "    @titulo.setter\n",
    "    def titulo(self, val):\n",
    "        if len(val) == 0:\n",
    "            raise ValueError(\"Erro: 'título' não pode ser vazio\")\n",
    "        self._titulo = val\n",
    "    \n",
    "    def __str__(self):\n",
    "        return \"Título: \"+self._titulo+\" Ano: \"+str(self.ano)+\" Lista de Autores: \"+ str(self.autores)\n",
    "\n",
    "    def __repr__(self):\n",
    "        return str(self)\n"
   ]
  },
  {
   "cell_type": "code",
   "execution_count": 37,
   "metadata": {},
   "outputs": [],
   "source": [
    "from typing import List, Set, Dict, Tuple, Optional\n",
    "\n",
    "class Biblioteca():\n",
    "    def __init__(self, Lista_livros = []):\n",
    "        self._livros = Lista_livros\n",
    "    \n",
    "    @property\n",
    "    def livros_por_autor(self):\n",
    "        dicionario = {}\n",
    "        for livro in self._livros:\n",
    "            for autor in livro.autores:\n",
    "                if autor in dicionario:\n",
    "                    dicionario[autor].append(livro)\n",
    "                else:\n",
    "                    dicionario[autor] = [livro]\n",
    "        return dicionario\n",
    "       \n",
    "    def __str__(self):\n",
    "        return \"Lista de livros: \"+str(self._livros)\n",
    "\n",
    "    def __repr__(self):\n",
    "        return str(self)\n",
    "    "
   ]
  },
  {
   "cell_type": "code",
   "execution_count": 39,
   "metadata": {
    "tags": []
   },
   "outputs": [
    {
     "output_type": "error",
     "ename": "NameError",
     "evalue": "name 'autor' is not defined",
     "traceback": [
      "\u001b[1;31m---------------------------------------------------------------------------\u001b[0m",
      "\u001b[1;31mNameError\u001b[0m                                 Traceback (most recent call last)",
      "\u001b[1;32m<ipython-input-39-268b25cd73d7>\u001b[0m in \u001b[0;36m<module>\u001b[1;34m\u001b[0m\n\u001b[0;32m      4\u001b[0m \u001b[0mautor4\u001b[0m \u001b[1;33m=\u001b[0m \u001b[0mAutor\u001b[0m\u001b[1;33m(\u001b[0m\u001b[1;36m1969\u001b[0m\u001b[1;33m,\u001b[0m \u001b[1;34m\"Maxim\"\u001b[0m\u001b[1;33m,\u001b[0m \u001b[1;34m\"Vachier\"\u001b[0m\u001b[1;33m,\u001b[0m \u001b[1;34m\"Lagrave\"\u001b[0m\u001b[1;33m)\u001b[0m\u001b[1;33m\u001b[0m\u001b[1;33m\u001b[0m\u001b[0m\n\u001b[0;32m      5\u001b[0m \u001b[1;33m\u001b[0m\u001b[0m\n\u001b[1;32m----> 6\u001b[1;33m \u001b[0mlivro1\u001b[0m \u001b[1;33m=\u001b[0m \u001b[0mLivro\u001b[0m\u001b[1;33m(\u001b[0m\u001b[1;34m\"livro 1\"\u001b[0m\u001b[1;33m,\u001b[0m \u001b[1;36m2020\u001b[0m\u001b[1;33m,\u001b[0m \u001b[1;33m[\u001b[0m\u001b[0mautor\u001b[0m\u001b[1;33m.\u001b[0m\u001b[0mnome_como_citado\u001b[0m\u001b[1;33m,\u001b[0m \u001b[0mautor2\u001b[0m\u001b[1;33m.\u001b[0m\u001b[0mnome_como_citado\u001b[0m\u001b[1;33m]\u001b[0m\u001b[1;33m)\u001b[0m\u001b[1;33m\u001b[0m\u001b[1;33m\u001b[0m\u001b[0m\n\u001b[0m\u001b[0;32m      7\u001b[0m \u001b[0mlivro2\u001b[0m \u001b[1;33m=\u001b[0m \u001b[0mLivro\u001b[0m\u001b[1;33m(\u001b[0m\u001b[1;34m\"livro 2\"\u001b[0m\u001b[1;33m,\u001b[0m \u001b[1;36m2020\u001b[0m\u001b[1;33m,\u001b[0m \u001b[1;33m[\u001b[0m\u001b[0mautor1\u001b[0m\u001b[1;33m.\u001b[0m\u001b[0mnome_como_citado\u001b[0m\u001b[1;33m,\u001b[0m \u001b[0mautor3\u001b[0m\u001b[1;33m.\u001b[0m\u001b[0mnome_como_citado\u001b[0m\u001b[1;33m]\u001b[0m\u001b[1;33m)\u001b[0m\u001b[1;33m\u001b[0m\u001b[1;33m\u001b[0m\u001b[0m\n\u001b[0;32m      8\u001b[0m \u001b[0mlivro3\u001b[0m \u001b[1;33m=\u001b[0m \u001b[0mLivro\u001b[0m\u001b[1;33m(\u001b[0m\u001b[1;34m\"livro 3\"\u001b[0m\u001b[1;33m,\u001b[0m \u001b[1;36m2020\u001b[0m\u001b[1;33m,\u001b[0m \u001b[1;33m[\u001b[0m\u001b[0mautor3\u001b[0m\u001b[1;33m.\u001b[0m\u001b[0mnome_como_citado\u001b[0m\u001b[1;33m,\u001b[0m \u001b[0mautor2\u001b[0m\u001b[1;33m.\u001b[0m\u001b[0mnome_como_citado\u001b[0m\u001b[1;33m,\u001b[0m \u001b[0mautor1\u001b[0m\u001b[1;33m.\u001b[0m\u001b[0mnome_como_citado\u001b[0m\u001b[1;33m]\u001b[0m\u001b[1;33m)\u001b[0m\u001b[1;33m\u001b[0m\u001b[1;33m\u001b[0m\u001b[0m\n",
      "\u001b[1;31mNameError\u001b[0m: name 'autor' is not defined"
     ]
    }
   ],
   "source": [
    "autor1 = Autor(1998, \"Krikor\", \"Mektarian\", \"Sevag\")\n",
    "autor2 = Autor(1976, \"Evandro\", \"Barbosa\")\n",
    "autor3 = Autor(1955, \"Magnus\", \"Calsen\")\n",
    "autor4 = Autor(1969, \"Maxim\", \"Vachier\", \"Lagrave\")\n",
    "\n",
    "livro1 = Livro(\"livro 1\", 2020, [autor.nome_como_citado, autor2.nome_como_citado])\n",
    "livro2 = Livro(\"livro 2\", 2020, [autor1.nome_como_citado, autor3.nome_como_citado])\n",
    "livro3 = Livro(\"livro 3\", 2020, [autor3.nome_como_citado, autor2.nome_como_citado, autor1.nome_como_citado])\n",
    "livro4 = Livro(\"livro 4\", 2020, [autor4.nome_como_citado])\n",
    "\n",
    "biblioteca = Biblioteca([livro1, livro2, livro3, livro4])\n",
    "for ch,val in biblioteca.livros_por_autor.items():\n",
    "    print(ch+\": \"+str(val))"
   ]
  }
 ],
 "metadata": {
  "language_info": {
   "codemirror_mode": {
    "name": "ipython",
    "version": 3
   },
   "file_extension": ".py",
   "mimetype": "text/x-python",
   "name": "python",
   "nbconvert_exporter": "python",
   "pygments_lexer": "ipython3",
   "version": "3.8.3-final"
  },
  "orig_nbformat": 2,
  "kernelspec": {
   "name": "python38364bit5776fe6a75d3492abc253932536e55a2",
   "display_name": "Python 3.8.3 64-bit"
  }
 },
 "nbformat": 4,
 "nbformat_minor": 2
}