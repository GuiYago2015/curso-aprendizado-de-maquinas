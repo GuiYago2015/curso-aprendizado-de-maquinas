{
 "cells": [
  {
   "cell_type": "code",
   "execution_count": null,
   "metadata": {},
   "outputs": [],
   "source": [
    "Retorna o maior valor entre a e b"
   ]
  },
  {
   "cell_type": "code",
   "execution_count": 3,
   "metadata": {
    "tags": []
   },
   "outputs": [
    {
     "output_type": "stream",
     "name": "stdout",
     "text": "100\n99\n242\n"
    }
   ],
   "source": [
    "def maior(a:int, b:int) -> int:\n",
    "    maior_num = 0;\n",
    "    if a > b:\n",
    "        maior_num = a - 1;\n",
    "    else:\n",
    "        for i in range(a, b, 1):\n",
    "             if i > maior_num:\n",
    "                maior_num = i\n",
    "    return maior_num\n",
    "\n",
    "print (maior(101, 2)) #99\n",
    "print (maior(2, 100)) #99\n",
    "print (maior(7, 243)) #242"
   ]
  },
  {
   "cell_type": "code",
   "execution_count": null,
   "metadata": {},
   "outputs": [],
   "source": [
    "soma(lista,x): retorna o somatório dos valores passados pela lista. \n",
    "O argumento x deve ser opcional que, se passado, será somado ao resultado final."
   ]
  },
  {
   "cell_type": "code",
   "execution_count": 43,
   "metadata": {},
   "outputs": [
    {
     "name": "stdout",
     "output_type": "stream",
     "text": [
      "20\n",
      "23\n",
      "35\n",
      "2\n"
     ]
    }
   ],
   "source": [
    "from typing import List\n",
    "def soma(lista:List[float], x:float = 0) -> float:\n",
    "    soma_lista = x;\n",
    "    for num in lista:\n",
    "        soma_lista += num;\n",
    "    return soma_lista \n",
    "\n",
    "print(soma([2, 3, 4, 5, 6])) #20\n",
    "print(soma([2, 3, 4, 5, 6], 3)) #23\n",
    "\n",
    "print(soma([23, 35, 4, 1, -28])) #35\n",
    "print(soma([23, 35, 4, 1, -28], -33)) #2"
   ]
  },
  {
   "cell_type": "code",
   "execution_count": null,
   "metadata": {},
   "outputs": [],
   "source": [
    "media(lista): Retorna a média dos valores passados pela lista."
   ]
  },
  {
   "cell_type": "code",
   "execution_count": 44,
   "metadata": {},
   "outputs": [
    {
     "name": "stdout",
     "output_type": "stream",
     "text": [
      "4.0\n",
      "4.0\n"
     ]
    }
   ],
   "source": [
    "from typing import List\n",
    "def media(lista:List[float]) -> float:\n",
    "    soma_lista = i = 0;\n",
    "    for num in lista:\n",
    "        soma_lista += num\n",
    "        i += 1\n",
    "    return soma_lista / i;\n",
    "     \n",
    "\n",
    "print(media([2, 3, 4, 5, 6])) #4.0\n",
    "print(media([2, 3, 4, 5, 3, 7])) #4.0"
   ]
  },
  {
   "cell_type": "code",
   "execution_count": null,
   "metadata": {},
   "outputs": [],
   "source": [
    "valores_iguais(lista1,lista2): retorna uma lista contendo os valores iguais entre as duas listas passadas como parâmetro"
   ]
  },
  {
   "cell_type": "code",
   "execution_count": 52,
   "metadata": {},
   "outputs": [
    {
     "name": "stdout",
     "output_type": "stream",
     "text": [
      "['carro', 2, [2, 3, 4]]\n"
     ]
    }
   ],
   "source": [
    "from typing import List\n",
    "def valores_iguais(lista1:List[float], lista2:List[float])-> List[float]:\n",
    "    lista = list() \n",
    "    for valores1 in lista1:\n",
    "        for valores2 in lista2:\n",
    "            if valores1 == valores2:\n",
    "                lista.append(valores1)\n",
    "    return list(lista)\n",
    "\n",
    "print(valores_iguais(['carro', 2, 3, 'outubro', True, [2, 3, 4]], ['carro', 2, 7, 'setembro', False, [2, 3, 4]])) #['carro', 2, [2, 3, 4]]"
   ]
  },
  {
   "cell_type": "code",
   "execution_count": null,
   "metadata": {},
   "outputs": [],
   "source": [
    "indice_prim_valor_igual(lista1,lista2): retorna a posição na lista1 do primeiro valor igual ao da lista2. \n",
    "Caso não exista, é retornado None."
   ]
  },
  {
   "cell_type": "code",
   "execution_count": 70,
   "metadata": {},
   "outputs": [
    {
     "name": "stdout",
     "output_type": "stream",
     "text": [
      "0\n",
      "4\n",
      "None\n"
     ]
    }
   ],
   "source": [
    "from typing import List, Optional\n",
    "def indice_prim_valor_igual(lista1:List[float], lista2:List[float]) -> Optional[int]:\n",
    "    pos = None \n",
    "    for i, valor1 in enumerate(lista1):\n",
    "        for j, valor2 in enumerate(lista2):\n",
    "            if valor1 == valor2:\n",
    "                return str(i)\n",
    "    \n",
    "\n",
    "print(indice_prim_valor_igual(['carro', 2, 3, 'outubro', True, [2, 3, 4]], ['carro', 2, 7, 'setembro', False, [2, 3, 4]])) #0\n",
    "\n",
    "print(indice_prim_valor_igual(['moto', 3, 3, 'outubro', True, [2, 3, 4]], ['carro', 2, 7, 'setembro', True, [2, 3, 4]])) #4\n",
    "\n",
    "print(indice_prim_valor_igual(['moto', 3, 3, 'outubro', True, [2, 3, 4]], ['carro', 2, 7, 'setembro', False, [2, 6, 4]])) #None"
   ]
  }
 ],
 "metadata": {
  "kernelspec": {
   "display_name": "Python 3.8.3 64-bit",
   "language": "python",
   "name": "python38364bit5776fe6a75d3492abc253932536e55a2"
  },
  "language_info": {
   "codemirror_mode": {
    "name": "ipython",
    "version": 3
   },
   "file_extension": ".py",
   "mimetype": "text/x-python",
   "name": "python",
   "nbconvert_exporter": "python",
   "pygments_lexer": "ipython3",
   "version": "3.8.3-final"
  }
 },
 "nbformat": 4,
 "nbformat_minor": 4
}